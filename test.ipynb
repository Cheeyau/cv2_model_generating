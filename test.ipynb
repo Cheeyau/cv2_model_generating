{
 "cells": [
  {
   "cell_type": "code",
   "execution_count": 21,
   "metadata": {},
   "outputs": [],
   "source": [
    "#import modules\n",
    "from keras.layers import *\n",
    "from keras.utils import load_img, img_to_array\n",
    "import pandas as pd \n",
    "import numpy as np \n",
    "import os\n",
    "from keras.models import load_model\n",
    "from tqdm import tqdm"
   ]
  },
  {
   "cell_type": "code",
   "execution_count": 22,
   "metadata": {},
   "outputs": [],
   "source": [
    "image_height = 200\n",
    "image_weight = 150\n",
    "sequence = 3\n",
    "sequence_length = 20\n",
    "\n",
    "def arrange_data(df, map):\n",
    "    image_data = []\n",
    "    ids = df[df.columns[0]]\n",
    "    map = f\"{map}/raw_images/\"\n",
    "    \n",
    "    df = df.drop(df.columns[0], axis=1)\n",
    "    \n",
    "    for i in ids:\n",
    "        img = load_img(f\"{map}{i}.jpg\", target_size=(image_height, image_weight, sequence))\n",
    "        img = img_to_array(img)\n",
    "        image_data.append(img)\n",
    "    \n",
    "    X = np.array(image_data)\n",
    "    Y = np.array(df)\n",
    "    \n",
    "    print(\"Shape of images:\", X.shape)\n",
    "    print(\"Shape of labels:\", Y.shape)\n",
    "    \n",
    "    return X, Y"
   ]
  },
  {
   "cell_type": "code",
   "execution_count": 23,
   "metadata": {},
   "outputs": [
    {
     "name": "stdout",
     "output_type": "stream",
     "text": [
      "Processing test..\n",
      "Shape of images: (25, 200, 150, 3)\n",
      "Shape of labels: (25, 26)\n"
     ]
    }
   ],
   "source": [
    "# splitting data and scale\n",
    "current_folder = os.path.abspath('')\n",
    "map = f\"{current_folder}/data/\"\n",
    "\n",
    "# reads first row double\n",
    "print(\"Processing test..\")\n",
    "val_df = pd.read_csv(f\"{map}test.csv\", delimiter=',', header=0)\n",
    "X_test, Y_test = arrange_data(val_df, current_folder)\n",
    "\n",
    "# scale data \n",
    "X_test = X_test / 255\n",
    "Y_test = Y_test / 255\n"
   ]
  },
  {
   "cell_type": "code",
   "execution_count": 27,
   "metadata": {},
   "outputs": [],
   "source": [
    "def accuracy_score(map, model_path):\n",
    "    \n",
    "    test_df = pd.read_csv(f\"{map}test.csv\", delimiter=',', header=None)\n",
    "    X_test, Y_test = arrange_data(test_df, current_folder)\n",
    "\n",
    "    model = load_model(model_path)\n",
    "\n",
    "    pred = model.predict(np.array(X_test))\n",
    "\n",
    "    count = 0\n",
    "    for i in tqdm(range(len(pred))):\n",
    "        value = 0\n",
    "        \n",
    "        first3_index = np.argsort(pred[i])[-3:]\n",
    "        correct = np.where(Y_test[i] == 1)[0]\n",
    "        \n",
    "        for j in first3_index:\n",
    "            if j in correct:\n",
    "                value += 1\n",
    "                \n",
    "        if (value>0):\n",
    "            count=count+1\n",
    "                \n",
    "    print(\"Images having atleast one genre correctly identified=\",count)\n",
    "    print(\"Total number of images =\",len(pred))\n",
    "    print(\"Accuracy = \", count/len(pred))"
   ]
  },
  {
   "cell_type": "code",
   "execution_count": 31,
   "metadata": {},
   "outputs": [
    {
     "name": "stdout",
     "output_type": "stream",
     "text": [
      "Shape of images: (26, 200, 150, 3)\n",
      "Shape of labels: (26, 26)\n",
      "WARNING:tensorflow:6 out of the last 6 calls to <function Model.make_predict_function.<locals>.predict_function at 0x00000226BBDB3E50> triggered tf.function retracing. Tracing is expensive and the excessive number of tracings could be due to (1) creating @tf.function repeatedly in a loop, (2) passing tensors with different shapes, (3) passing Python objects instead of tensors. For (1), please define your @tf.function outside of the loop. For (2), @tf.function has reduce_retracing=True option that can avoid unnecessary retracing. For (3), please refer to https://www.tensorflow.org/guide/function#controlling_retracing and https://www.tensorflow.org/api_docs/python/tf/function for  more details.\n",
      "1/1 [==============================] - 0s 179ms/step\n"
     ]
    },
    {
     "name": "stderr",
     "output_type": "stream",
     "text": [
      "100%|██████████| 26/26 [00:00<00:00, 26020.50it/s]"
     ]
    },
    {
     "name": "stdout",
     "output_type": "stream",
     "text": [
      "Images having atleast one genre correctly identified= 19\n",
      "Total number of images = 26\n",
      "Accuracy =  0.7307692307692307\n",
      "\n",
      "\n",
      "Shape of images: (26, 200, 150, 3)\n",
      "Shape of labels: (26, 26)\n"
     ]
    },
    {
     "name": "stderr",
     "output_type": "stream",
     "text": [
      "\n"
     ]
    },
    {
     "name": "stdout",
     "output_type": "stream",
     "text": [
      "1/1 [==============================] - 2s 2s/step\n"
     ]
    },
    {
     "name": "stderr",
     "output_type": "stream",
     "text": [
      "100%|██████████| 26/26 [00:00<00:00, 26008.09it/s]"
     ]
    },
    {
     "name": "stdout",
     "output_type": "stream",
     "text": [
      "Images having atleast one genre correctly identified= 19\n",
      "Total number of images = 26\n",
      "Accuracy =  0.7307692307692307\n"
     ]
    },
    {
     "name": "stderr",
     "output_type": "stream",
     "text": [
      "\n"
     ]
    }
   ],
   "source": [
    "\n",
    "accuracy_score(map, f\"{current_folder}/result_model/generated.h5\")\n",
    "print(\"\\n\")\n",
    "accuracy_score(map, f\"{current_folder}/result_model/pretrained.h5\")"
   ]
  },
  {
   "cell_type": "code",
   "execution_count": null,
   "metadata": {},
   "outputs": [],
   "source": []
  }
 ],
 "metadata": {
  "kernelspec": {
   "display_name": "base",
   "language": "python",
   "name": "python3"
  },
  "language_info": {
   "codemirror_mode": {
    "name": "ipython",
    "version": 3
   },
   "file_extension": ".py",
   "mimetype": "text/x-python",
   "name": "python",
   "nbconvert_exporter": "python",
   "pygments_lexer": "ipython3",
   "version": "3.9.16"
  },
  "orig_nbformat": 4
 },
 "nbformat": 4,
 "nbformat_minor": 2
}
